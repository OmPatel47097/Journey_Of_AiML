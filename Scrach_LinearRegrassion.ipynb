{
 "cells": [
  {
   "cell_type": "code",
   "execution_count": 5,
   "metadata": {},
   "outputs": [],
   "source": [
    "import numpy as np\n",
    "import pandas as pd\n",
    "import matplotlib.pyplot as plt "
   ]
  },
  {
   "cell_type": "code",
   "execution_count": 6,
   "metadata": {},
   "outputs": [
    {
     "name": "stdout",
     "output_type": "stream",
     "text": [
      "   ID  symboling                      name fueltypes aspiration doornumbers  \\\n",
      "0   1          3        alfa-romero giulia       gas        std         two   \n",
      "1   2          3       alfa-romero stelvio       gas        std         two   \n",
      "2   3          1  alfa-romero Quadrifoglio       gas        std         two   \n",
      "3   4          2               audi 100 ls       gas        std        four   \n",
      "4   5          2                audi 100ls       gas        std        four   \n",
      "\n",
      "       carbody drivewheels enginelocation  wheelbase  ...  enginesize  \\\n",
      "0  convertible         rwd          front       88.6  ...         130   \n",
      "1  convertible         rwd          front       88.6  ...         130   \n",
      "2    hatchback         rwd          front       94.5  ...         152   \n",
      "3        sedan         fwd          front       99.8  ...         109   \n",
      "4        sedan         4wd          front       99.4  ...         136   \n",
      "\n",
      "   fuelsystem  boreratio  stroke compressionratio horsepower  peakrpm citympg  \\\n",
      "0        mpfi       3.47    2.68              9.0        111     5000      21   \n",
      "1        mpfi       3.47    2.68              9.0        111     5000      21   \n",
      "2        mpfi       2.68    3.47              9.0        154     5000      19   \n",
      "3        mpfi       3.19    3.40             10.0        102     5500      24   \n",
      "4        mpfi       3.19    3.40              8.0        115     5500      18   \n",
      "\n",
      "   highwaympg    price  \n",
      "0          27  13495.0  \n",
      "1          27  16500.0  \n",
      "2          26  16500.0  \n",
      "3          30  13950.0  \n",
      "4          22  17450.0  \n",
      "\n",
      "[5 rows x 26 columns]\n",
      "<class 'pandas.core.frame.DataFrame'>\n",
      "RangeIndex: 205 entries, 0 to 204\n",
      "Data columns (total 26 columns):\n",
      " #   Column            Non-Null Count  Dtype  \n",
      "---  ------            --------------  -----  \n",
      " 0   ID                205 non-null    int64  \n",
      " 1   symboling         205 non-null    int64  \n",
      " 2   name              205 non-null    object \n",
      " 3   fueltypes         205 non-null    object \n",
      " 4   aspiration        205 non-null    object \n",
      " 5   doornumbers       205 non-null    object \n",
      " 6   carbody           205 non-null    object \n",
      " 7   drivewheels       205 non-null    object \n",
      " 8   enginelocation    205 non-null    object \n",
      " 9   wheelbase         205 non-null    float64\n",
      " 10  carlength         205 non-null    float64\n",
      " 11  carwidth          205 non-null    float64\n",
      " 12  carheight         205 non-null    float64\n",
      " 13  curbweight        205 non-null    int64  \n",
      " 14  enginetype        205 non-null    object \n",
      " 15  cylindernumber    205 non-null    object \n",
      " 16  enginesize        205 non-null    int64  \n",
      " 17  fuelsystem        205 non-null    object \n",
      " 18  boreratio         205 non-null    float64\n",
      " 19  stroke            205 non-null    float64\n",
      " 20  compressionratio  205 non-null    float64\n",
      " 21  horsepower        205 non-null    int64  \n",
      " 22  peakrpm           205 non-null    int64  \n",
      " 23  citympg           205 non-null    int64  \n",
      " 24  highwaympg        205 non-null    int64  \n",
      " 25  price             205 non-null    float64\n",
      "dtypes: float64(8), int64(8), object(10)\n",
      "memory usage: 41.8+ KB\n",
      "None\n"
     ]
    }
   ],
   "source": [
    "# Loading the dataset of Car\n",
    "df = pd.read_csv(\"S:\\Machine-Learning_Tutorials\\Projects_ML\\Data\\scrap price.csv\")\n",
    "print(df.head())\n",
    "print(df.info())"
   ]
  },
  {
   "cell_type": "markdown",
   "metadata": {},
   "source": [
    "<a name=\"->\"></a>\n",
    "## About the Dataset:\n",
    "\n",
    "This is the dataset of different Cars and its Pricing. This internaly uses the features like `car_name, fueltypes, horsepower, citympg, `\n",
    "`enginelocation, and many more`.\n",
    "\n",
    "The idea behind this dataset is as following :\n",
    "The car company wants to enter a new market and needs an estimation of exactly which variables affect the car prices.\n",
    "The goal is\n",
    "\n",
    "- Which variables are significant in predicting the price of a car\n",
    "- How well do those variables describe the price of a car"
   ]
  },
  {
   "cell_type": "markdown",
   "metadata": {},
   "source": [
    "<a name=\"1\"></a>\n",
    "## 1 - Basic EDA on Dataset.\n",
    "\n",
    "Now, Lets extract the features we want to perform Simple Linear Regration on.\n",
    "\n",
    ">1. Firstly, we will use following features from the dataset in order to predict the price of the a particular car\n",
    ">    - `Horsepower` as the input feature named `X`\n",
    ">    - `Price` as the predction variable called `y`\n",
    "\n",
    "in code, we call the training variables with `x_train` and `y_train`.\n",
    "    "
   ]
  },
  {
   "cell_type": "code",
   "execution_count": 7,
   "metadata": {},
   "outputs": [
    {
     "name": "stdout",
     "output_type": "stream",
     "text": [
      "Type of x_train: <class 'pandas.core.series.Series'>\n",
      "First five elements of x_train are:\n",
      " 0    111\n",
      "1    111\n",
      "2    154\n",
      "3    102\n",
      "4    115\n",
      "Name: horsepower, dtype: int64 \n",
      " \n",
      "\n",
      "Type of y_train: <class 'pandas.core.series.Series'>\n",
      "First five elements of y_train are:\n",
      " 0    13495.0\n",
      "1    16500.0\n",
      "2    16500.0\n",
      "3    13950.0\n",
      "4    17450.0\n",
      "Name: price, dtype: float64\n"
     ]
    }
   ],
   "source": [
    "# modifying dataset for Simple Linear Regrassion \n",
    "\n",
    "x_train = df['horsepower']\n",
    "y_train = df['price']\n",
    "\n",
    "# Before starting on any task, it is useful to get more familiar with your dataset.\n",
    "# print(x_train)\n",
    "\n",
    "print(\"Type of x_train:\",type(x_train))\n",
    "print(\"First five elements of x_train are:\\n\", x_train.head(), \"\\n \\n\") \n",
    "\n",
    "# print(y_train)\n",
    "print(\"Type of y_train:\",type(y_train))\n",
    "print(\"First five elements of y_train are:\\n\", y_train[:5])  "
   ]
  },
  {
   "cell_type": "markdown",
   "metadata": {},
   "source": [
    "It is seen that the type of the data is in **`Pandas Series`** formate which is not sutable for numpy operation.\n",
    "\n",
    "So, we have to convert it to **`numpy array`** formate. "
   ]
  },
  {
   "cell_type": "code",
   "execution_count": 8,
   "metadata": {},
   "outputs": [
    {
     "name": "stdout",
     "output_type": "stream",
     "text": [
      "<class 'numpy.ndarray'> \n",
      " <class 'numpy.ndarray'>\n"
     ]
    }
   ],
   "source": [
    "# converting Series to Array\n",
    "x_train = x_train.to_numpy()\n",
    "y_train = y_train.to_numpy()\n",
    "\n",
    "print(type(x_train), '\\n', type(y_train))"
   ]
  },
  {
   "cell_type": "code",
   "execution_count": 9,
   "metadata": {},
   "outputs": [
    {
     "name": "stdout",
     "output_type": "stream",
     "text": [
      "Shape of x_train :  (205,)\n",
      "Shape of y_train :  (205,)\n",
      "No of examples :  205\n"
     ]
    }
   ],
   "source": [
    "# checking the dimention of the data\n",
    "\n",
    "print(\"Shape of x_train : \", x_train.shape)\n",
    "print(\"Shape of y_train : \", y_train.shape)\n",
    "print(\"No of examples : \", len(x_train))"
   ]
  },
  {
   "cell_type": "markdown",
   "metadata": {},
   "source": [
    "Furthermore, In order to understand the data more clearly we can plot the data in 2D Scatter plot.\n",
    "\n",
    "- Let's plot Hoursepower vs. Price graph"
   ]
  },
  {
   "cell_type": "code",
   "execution_count": 10,
   "metadata": {},
   "outputs": [
    {
     "data": {
      "image/png": "[encoded data removed]",
      "text/plain": [
       "<Figure size 432x288 with 1 Axes>"
      ]
     },
     "metadata": {
      "needs_background": "light"
     },
     "output_type": "display_data"
    }
   ],
   "source": [
    "# ploting the data\n",
    "plt.scatter(x_train, y_train, marker = 'x', c = 'r')\n",
    "\n",
    "# Set the title\n",
    "plt.title(\"Horsepower vs. Price\")\n",
    "# Set the y-axis label\n",
    "plt.ylabel('Price')\n",
    "# Set the x-axis label\n",
    "plt.xlabel('Horsepower')\n",
    "plt.show()"
   ]
  },
  {
   "cell_type": "markdown",
   "metadata": {},
   "source": [
    "## 2 - Understanding Math behind Linear Regrassion\n",
    "\n",
    "We have to understand basic of maths in oredr to better understand linear regrassion more clearly \n",
    "\n",
    ">In the socound stage, we would like to build Model for Simple Linear Regrassion.\n",
    ">\n",
    ">    - for this to be succesful, first you need to understand the maths behind the code of LR.\n",
    ">    - The maths is explained in following cell"
   ]
  },
  {
   "cell_type": "markdown",
   "metadata": {},
   "source": [
    "**This is the maths behind LR :**\n",
    "> - you will fit the linear regression parameters $(w,b)$ to your dataset.\n",
    ">   To train a linear regression model, you want to find the best $(w, b)$ parameters that fit your dataset.\n",
    ">   because the function of the model is as following :\n",
    ">       $$f_{w,b}(x) = wx + b$$\n",
    "> - To compare how one choice of $(w, b)$ is better or worse than another choice, you can evaluate it with a cost function $J(w, b)$.\n",
    "> - So, the choice of $(w,b)$ that fits the data is the one that has smallest cost $J(w,b)$\n",
    "\n",
    "- To minimiz the cost function we can you concept like **Gradient Descent**.\n",
    "- With each step of gradient descent, your parameters $(w, b)$ come closer to the optimal values that will achieve the lowest cost $J(w, b)$.\n",
    "- The trained linear regression model can then take the input feature **X (Horsepower)** and output a prediction (predicted price of the Car)."
   ]
  },
  {
   "cell_type": "markdown",
   "metadata": {},
   "source": [
    "**Computing the Cost between Predcted and Actual Price :**\n",
    "\n",
    "Gradient descent involves repeated steps to adjust the value of your parameter $(w, b)$ to gradually get a smaller and smaller cost $J(w, b)$.\n",
    "At each step of gradient descent, it will be helpful for you to monitor your progress by computing the cost $J(w, b)$ as $(w, b)$ gets updated.\n",
    "\n",
    "#### Function of Cost =\n",
    "for one variable, the cost function for linear regression J(w, b) is defined as\n",
    "$$J(w,b) = \\frac{1}{2m} \\sum\\limits_{i = 0}^{m-1} (f_{w,b}(x^{(i)}) - y^{(i)})^2$$ \n",
    "here, function $f_{w,b}(x^{(i)})$ is the result of predcted value.\n",
    "\n",
    "$m$ is the No. of training examples\n",
    "\n"
   ]
  },
  {
   "cell_type": "markdown",
   "metadata": {},
   "source": [
    "**Now, Let's make a function that compute the Cost between Actual and Predicted value of the Price.**"
   ]
  },
  {
   "cell_type": "code",
   "execution_count": 11,
   "metadata": {},
   "outputs": [],
   "source": [
    "# First, We have to derive the cost for Prediction.\n",
    "def Cost_compute(x, y, w, b):\n",
    "\n",
    "    m = x.shape[0]\n",
    "    h = 0\n",
    "\n",
    "# implementing math function using for loop...\n",
    "    for i in range(m):\n",
    "        \n",
    "        f_wb = w*x[i] + b                   # The prediction of the model for that example\n",
    "        cost_exp = (f_wb - y[i])**2         # The cost for that example\n",
    "        h += cost_exp                       # Adding All cost of Exaple\n",
    "        \n",
    "        total_cost = (1/(2*m))*(h)          # Computing total cost\n",
    "\n",
    "    return total_cost"
   ]
  },
  {
   "cell_type": "markdown",
   "metadata": {},
   "source": [
    "## 3 - Gradient Descent Implementation\n",
    "\n",
    "It is very important part of LR because this algorithm can help the algorith to find the lowest cost, we can get by choosing the value of $(w, b)$.\n",
    "\n",
    "The gradient descent algorithm is as follows:\n",
    "\n",
    "$$\\begin{align*}& \\text{repeat until convergence:} \\; \\lbrace \\newline \\; & \\phantom {0000} b := b -  \\alpha \\frac{\\partial J(w,b)}{\\partial b} \\newline       \\; & \\phantom {0000} w := w -  \\alpha \\frac{\\partial J(w,b)}{\\partial w}   \\; & \n",
    "\\newline & \\rbrace\\end{align*}$$\n",
    "\n",
    "where, parameters $w, b$ are both updated simultaniously  \n",
    "$$\n",
    "\\frac{\\partial J(w,b)}{\\partial b}  = \\frac{1}{m} \\sum\\limits_{i = 0}^{m-1} (f_{w,b}(x^{(i)}) - y^{(i)}) \n",
    "$$\n",
    "$$\n",
    "\\frac{\\partial J(w,b)}{\\partial w}  = \\frac{1}{m} \\sum\\limits_{i = 0}^{m-1} (f_{w,b}(x^{(i)}) -y^{(i)})x^{(i)} \n",
    "$$\n",
    "* m shows the number of training examples in the dataset\n",
    "    \n",
    "*  $f_{w,b}(x^{(i)})$ is the model's prediction, while $y^{(i)}$, is the actual value\n",
    "\n",
    "\n",
    "Now, Let's implement a function called `compute_gradient_descent` which calculates $\\frac{\\partial J(w)}{\\partial w}$, $\\frac{\\partial J(w)}{\\partial b}$ "
   ]
  },
  {
   "cell_type": "code",
   "execution_count": 12,
   "metadata": {},
   "outputs": [],
   "source": [
    "def compute_gradient_descent(x, y, w, b):\n",
    "    \n",
    "    # Number of training examples\n",
    "    m = x.shape[0]\n",
    "    \n",
    "    # You need to return the following variables correctly\n",
    "    dj_dw = 0\n",
    "    dj_db = 0\n",
    "    \n",
    "    for i in range(m):\n",
    "\n",
    "        f_wb = (w*x[i]) + b\n",
    "        dj_db += f_wb - y[i]\n",
    "        dj_dw += (f_wb - y[i])*x[i]\n",
    "    \n",
    "    dj_dw = ( 1 / m ) * dj_dw\n",
    "    dj_db = ( 1 / m ) * dj_db \n",
    "        \n",
    "    return dj_dw, dj_db"
   ]
  },
  {
   "cell_type": "code",
   "execution_count": 14,
   "metadata": {},
   "outputs": [
    {
     "name": "stdout",
     "output_type": "stream",
     "text": [
      "Gradient at initial w, b (zeros): -1636388.0376585368 -13276.710570731706\n"
     ]
    }
   ],
   "source": [
    "# Compute and display gradient with w initialized to zeroes\n",
    "initial_w = 0\n",
    "initial_b = 0\n",
    "\n",
    "tmp_dj_dw, tmp_dj_db = compute_gradient_descent(x_train, y_train, initial_w, initial_b)\n",
    "print('Gradient at initial w, b (zeros):', tmp_dj_dw, tmp_dj_db)"
   ]
  },
  {
   "cell_type": "code",
   "execution_count": 15,
   "metadata": {},
   "outputs": [
    {
     "name": "stdout",
     "output_type": "stream",
     "text": [
      "Gradient at test w, b: -1610553.9108292684 -13058.476424390243\n"
     ]
    }
   ],
   "source": [
    "# Compute and display cost and gradient with non-zero w\n",
    "test_w = 2\n",
    "test_b = 10\n",
    "tmp_dj_dw, tmp_dj_db = compute_gradient_descent(x_train, y_train, test_w, test_b)\n",
    "\n",
    "print('Gradient at test w, b:', tmp_dj_dw, tmp_dj_db)"
   ]
  },
  {
   "cell_type": "markdown",
   "metadata": {},
   "source": [
    "**UNTIL HERE WEHAVE MADE FUNCTIONS THAT CAN CALCULATE THE COST AND GRADIENT. HOWEVER, WE STILL HAVE TO MANUALLY PUT THE VALUES OF $w$, $b$ IN THE ALOGRITHM.**"
   ]
  },
  {
   "cell_type": "markdown",
   "metadata": {},
   "source": [
    "## 4 - Complation of The Algorithm\n",
    "\n",
    "### Our next stape is to automate the values of $w, $b so, the Algorithm can find best line that fit into data.\n",
    "\n",
    "You will now find the optimal parameters of a linear regression model by using batch gradient descent.\n",
    "\n",
    "- Assuming you have implemented the gradient and computed the cost correctly and you have an appropriate value for the learning rate alpha, J(w, b) should neverincrease and should converge to a steady value by the end of the algorithm."
   ]
  },
  {
   "cell_type": "code",
   "execution_count": 16,
   "metadata": {},
   "outputs": [],
   "source": [
    "import copy\n",
    "import math\n",
    "\n",
    "def The_gradient_descent(x, y, w_fir, b_fir, Cost_compute, compute_gradient_descent, alpha, epocs):\n",
    "\n",
    "    # number of training examples\n",
    "    m = len(x)\n",
    "    \n",
    "    # array to store cost of J and w's at each iteration\n",
    "    J_hist = []\n",
    "    w_hist = []\n",
    "    w = w_fir\n",
    "    b = b_fir\n",
    "\n",
    "    for i in range(epocs):\n",
    "\n",
    "        # Calculate the gradient and update the parameters\n",
    "        dj_dw, dj_db = compute_gradient_descent(x, y, w, b )  \n",
    "\n",
    "        # Use Repeat until converge - Parameters using w, b, alpha and gradient\n",
    "        w = w - alpha * dj_dw               \n",
    "        b = b - alpha * dj_db               \n",
    "\n",
    "        # Save cost J at each iteration\n",
    "        if i<100000:      # prevent resource exhaustion \n",
    "            cost =  Cost_compute(x, y, w, b)\n",
    "            J_hist.append(cost)\n",
    "\n",
    "        # Print cost every at intervals\n",
    "        if i% math.ceil(epocs/10) == 0:     # math.ceil will roud off the floting number\n",
    "            w_hist.append(w)\n",
    "            print(f\"Iteration {i:4}: Cost {float(J_hist[-1]):8.2f}   \")\n",
    "        \n",
    "    return w, b, J_hist, w_hist \n"
   ]
  },
  {
   "cell_type": "markdown",
   "metadata": {},
   "source": [
    "**This was the last stage og bulding the algorithm.**\n",
    "\n",
    "### Now, let's run the gradient descent algorithm in order to learn the parameters for our dataset."
   ]
  },
  {
   "cell_type": "code",
   "execution_count": 26,
   "metadata": {},
   "outputs": [
    {
     "name": "stdout",
     "output_type": "stream",
     "text": [
      "Iteration    0: Cost 117870884.99   \n",
      "Iteration 1500: Cost 14653509.98   \n",
      "Iteration 3000: Cost 11962783.23   \n",
      "Iteration 4500: Cost 11892609.29   \n",
      "Iteration 6000: Cost 11890748.55   \n",
      "Iteration 7500: Cost 11890668.61   \n",
      "Iteration 9000: Cost 11890635.10   \n",
      "Iteration 10500: Cost 11890602.80   \n",
      "Iteration 12000: Cost 11890570.54   \n",
      "Iteration 13500: Cost 11890538.27   \n",
      "w,b collected by gradient descent: 131.9165115392373 10.410818401420256\n"
     ]
    }
   ],
   "source": [
    "initial_w = 1\n",
    "initial_b = 10\n",
    "\n",
    "iterations = 15000\n",
    "alpha = 0.98e-7\n",
    "\n",
    "w,b,_,_ = The_gradient_descent(x_train ,y_train, initial_w, initial_b, Cost_compute, compute_gradient_descent, alpha, iterations)\n",
    "print(\"w,b collected by gradient descent:\", w, b)"
   ]
  },
  {
   "cell_type": "markdown",
   "metadata": {},
   "source": [
    "To calculate the predictions on the entire dataset, we can loop through all the training\n",
    "examples and calculate the prediction for each example. This is shown in the code block\n",
    "below."
   ]
  },
  {
   "cell_type": "code",
   "execution_count": 27,
   "metadata": {},
   "outputs": [],
   "source": [
    "n = x_train.shape[0]\n",
    "prdt = np.zeros(n)\n",
    "\n",
    "for i in range(n):\n",
    "    prdt[i] = w * x_train[i] + b"
   ]
  },
  {
   "cell_type": "code",
   "execution_count": 28,
   "metadata": {},
   "outputs": [
    {
     "data": {
      "text/plain": [
       "Text(0.5, 0, 'Horsepower')"
      ]
     },
     "execution_count": 28,
     "metadata": {},
     "output_type": "execute_result"
    },
    {
     "data": {
      "image/png": "[encoded data removed]",
      "text/plain": [
       "<Figure size 432x288 with 1 Axes>"
      ]
     },
     "metadata": {
      "needs_background": "light"
     },
     "output_type": "display_data"
    }
   ],
   "source": [
    "# Ploting the fit on the dataset\n",
    "plt.plot(x_train, prdt, c = \"b\")\n",
    "\n",
    "plt.scatter(x_train, y_train, marker='x', c='r') \n",
    "plt.title(\"Horsepower vs. Price\")\n",
    "plt.ylabel('Price')\n",
    "plt.xlabel('Horsepower')"
   ]
  },
  {
   "cell_type": "markdown",
   "metadata": {},
   "source": [
    "#### Now, Lets test the model on the external Data.\n"
   ]
  },
  {
   "cell_type": "code",
   "execution_count": 29,
   "metadata": {},
   "outputs": [
    {
     "name": "stdout",
     "output_type": "stream",
     "text": [
      "For Horsepower of 670, we predict the price of = 88394.4735496904\n",
      "For Horsepower of 362, we predict the price of = 47764.187995605316\n"
     ]
    }
   ],
   "source": [
    "predict1 = 670 * w + b\n",
    "print('For Horsepower of 670, we predict the price of =', (predict1))\n",
    "\n",
    "predict2 = 362 * w + b\n",
    "print('For Horsepower of 362, we predict the price of =', (predict2))"
   ]
  },
  {
   "cell_type": "markdown",
   "metadata": {},
   "source": [
    "# -------------- END --------------"
   ]
  },
  {
   "cell_type": "code",
   "execution_count": null,
   "metadata": {},
   "outputs": [],
   "source": []
  }
 ],
 "metadata": {
  "kernelspec": {
   "display_name": "Python 3 (ipykernel)",
   "language": "python",
   "name": "python3"
  },
  "language_info": {
   "codemirror_mode": {
    "name": "ipython",
    "version": 3
   },
   "file_extension": ".py",
   "mimetype": "text/x-python",
   "name": "python",
   "nbconvert_exporter": "python",
   "pygments_lexer": "ipython3",
   "version": "3.10.2"
  }
 },
 "nbformat": 4,
 "nbformat_minor": 2
}
